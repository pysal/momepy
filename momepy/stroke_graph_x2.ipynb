{
 "cells": [
  {
   "cell_type": "markdown",
   "id": "3867e2cf",
   "metadata": {},
   "source": [
    "# Stroke graph generated twice...\n",
    "\n",
    "and then merging methods.\n",
    "\n",
    "(Also preparing for tests.)"
   ]
  },
  {
   "cell_type": "code",
   "execution_count": null,
   "id": "2345ab9a",
   "metadata": {},
   "outputs": [],
   "source": [
    "# import libraries\n",
    "import geopandas as gpd\n",
    "import momepy\n",
    "\n",
    "import pickle"
   ]
  },
  {
   "cell_type": "code",
   "execution_count": null,
   "id": "2fb98d56",
   "metadata": {},
   "outputs": [],
   "source": [
    "momepy.__version__"
   ]
  },
  {
   "cell_type": "markdown",
   "id": "4d08f78b",
   "metadata": {},
   "source": [
    "* read in gdf of linestrings\n",
    "* explode\n",
    "* mm remove false nodes\n",
    "* mm gdf to nx, primal, preserving index\n",
    "* mm nx to gdf only of lines\n",
    "* run coins (pass angle_threshold and flow_mode, defaults!)\n",
    "* from coins get .stroke_attribute() and .stroke_gdf()\n",
    "* add \"rep_point\" to .stroke_gdf()\n",
    "* add \"edge_indeces\" column to stroke gdf (anvy version)\n",
    "* for each edge, add \"stroke_id\" as attribute to graph (clse version)\n",
    "* create stroke graph (anvy version)\n",
    "* add nodes to stroke graph (anvy version)\n",
    "* adding edges to stroke graph (clse version)\n",
    "* compute metrics\n"
   ]
  },
  {
   "cell_type": "code",
   "execution_count": null,
   "id": "af9a151d",
   "metadata": {},
   "outputs": [],
   "source": [
    "### PREPROCESSING EXPECTED FROM USER!\n",
    "\n",
    "# read in toy graph (Bubenec)\n",
    "gdf = gpd.read_file(momepy.datasets.get_path(\"bubenec\"), layer=\"streets\")\n",
    "\n",
    "# remove false nodes (interstitital nodes of degree 2)\n",
    "gdf = momepy.remove_false_nodes(gdf)\n",
    "\n",
    "# make primal graph\n",
    "graph = momepy.gdf_to_nx(\n",
    "    gdf, \n",
    "    preserve_index=True, # !! preserving index needed for unambiguous mapping to coins!\n",
    "    approach=\"primal\"\n",
    ")\n",
    "\n",
    "# get momempy lines of graph\n",
    "lines = momepy.nx_to_gdf(\n",
    "    graph,\n",
    "    points=False,\n",
    "    lines=True\n",
    ")\n",
    "\n",
    "# get COINS of graph lines\n",
    "coins = momepy.COINS(\n",
    "    lines,\n",
    "    angle_threshold=0,\n",
    "    flow_mode=False\n",
    ") # this will be the input to strokes_to_graph"
   ]
  },
  {
   "cell_type": "code",
   "execution_count": null,
   "id": "cf48897f",
   "metadata": {},
   "outputs": [],
   "source": [
    "### USING THE FUNCTION\n",
    "strokes_graph = momepy.strokegraph.strokes_to_graph(coins)"
   ]
  },
  {
   "cell_type": "code",
   "execution_count": null,
   "id": "7dc4874c",
   "metadata": {},
   "outputs": [],
   "source": [
    "# after iteration finished, save results:\n",
    "with open('stroke_graph_x2.pickle', 'wb') as handle:\n",
    "    pickle.dump(strokes_graph, handle, protocol=pickle.HIGHEST_PROTOCOL)"
   ]
  }
 ],
 "metadata": {
  "kernelspec": {
   "display_name": "test",
   "language": "python",
   "name": "python3"
  },
  "language_info": {
   "codemirror_mode": {
    "name": "ipython",
    "version": 3
   },
   "file_extension": ".py",
   "mimetype": "text/x-python",
   "name": "python",
   "nbconvert_exporter": "python",
   "pygments_lexer": "ipython3",
   "version": "3.12.11"
  }
 },
 "nbformat": 4,
 "nbformat_minor": 5
}
