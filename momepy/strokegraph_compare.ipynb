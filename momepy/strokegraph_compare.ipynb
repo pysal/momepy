{
 "cells": [
  {
   "cell_type": "markdown",
   "id": "66901d81",
   "metadata": {},
   "source": [
    "# Checking whether we're getting the same results"
   ]
  },
  {
   "cell_type": "code",
   "execution_count": 1,
   "id": "b411a245",
   "metadata": {},
   "outputs": [],
   "source": [
    "import pickle\n",
    "import networkx as nx"
   ]
  },
  {
   "cell_type": "code",
   "execution_count": 2,
   "id": "b57b27f8",
   "metadata": {},
   "outputs": [],
   "source": [
    "with open('stroke_graph_anvy.pickle', 'rb') as handle:\n",
    "    G_anvy = pickle.load(handle)\n",
    "with open('stroke_graph_clse.pickle', 'rb') as handle:\n",
    "    G_clse = pickle.load(handle)"
   ]
  },
  {
   "cell_type": "markdown",
   "id": "a17bf072",
   "metadata": {},
   "source": [
    "Manually checking: edge attributes?"
   ]
  },
  {
   "cell_type": "code",
   "execution_count": 3,
   "id": "cf78ba7a",
   "metadata": {},
   "outputs": [
    {
     "data": {
      "text/plain": [
       "{'geometry': <LINESTRING (1603374.663 6464077.898, 1603342.343 6464406.368)>,\n",
       " 'angles': [36.134980718680936]}"
      ]
     },
     "execution_count": 3,
     "metadata": {},
     "output_type": "execute_result"
    }
   ],
   "source": [
    "G_anvy.edges[(0,9)]"
   ]
  },
  {
   "cell_type": "code",
   "execution_count": 4,
   "id": "915e4cab",
   "metadata": {},
   "outputs": [
    {
     "data": {
      "text/plain": [
       "{'geometry': <LINESTRING (1603374.663 6464077.898, 1603342.343 6464406.368)>,\n",
       " 'number_connections': 1,\n",
       " 'angles': [36.134980718680936]}"
      ]
     },
     "execution_count": 4,
     "metadata": {},
     "output_type": "execute_result"
    }
   ],
   "source": [
    "G_clse.edges[(0,9)]"
   ]
  },
  {
   "cell_type": "markdown",
   "id": "c712de5e",
   "metadata": {},
   "source": [
    "@csebastiao is the `number_connections` used for any of the metrics, or just a nice-to-have metric in itself?"
   ]
  },
  {
   "cell_type": "code",
   "execution_count": 5,
   "id": "af4d762b",
   "metadata": {},
   "outputs": [],
   "source": [
    "# make sure we have the same edges\n",
    "assert list(G_anvy.edges) == list(G_clse.edges), \"Edges differ\""
   ]
  },
  {
   "cell_type": "code",
   "execution_count": 6,
   "id": "afbcc5f1",
   "metadata": {},
   "outputs": [
    {
     "name": "stdout",
     "output_type": "stream",
     "text": [
      "Edge (0, 2)\n",
      "Angles equal\n",
      "\n",
      "\n",
      "Edge (0, 9)\n",
      "Angles equal\n",
      "\n",
      "\n",
      "Edge (0, 3)\n",
      "Angles differ:\n",
      "[29.3960283634]\n",
      "[27.9586406474]\n",
      "\n",
      "\n",
      "Edge (0, 1)\n",
      "Angles differ:\n",
      "[89.7456019245, 89.7526780498]\n",
      "[88.8925817012, 89.7526780498]\n",
      "\n",
      "\n",
      "Edge (0, 4)\n",
      "Angles differ:\n",
      "[89.4291516617, 89.5662303351]\n",
      "[63.1494214841, 63.2766055722]\n",
      "\n",
      "\n",
      "Edge (1, 8)\n",
      "Angles differ:\n",
      "[70.0411369582]\n",
      "[61.6127991329]\n",
      "\n",
      "\n",
      "Edge (1, 3)\n",
      "Angles differ:\n",
      "[89.5308449728, 89.5858181738]\n",
      "[83.0252283916, 89.5858181738]\n",
      "\n",
      "\n",
      "Edge (1, 6)\n",
      "Angles equal\n",
      "\n",
      "\n",
      "Edge (2, 9)\n",
      "Angles equal\n",
      "\n",
      "\n",
      "Edge (2, 3)\n",
      "Angles differ:\n",
      "[34.2514380149]\n",
      "[35.6888257308]\n",
      "\n",
      "\n",
      "Edge (2, 6)\n",
      "Angles differ:\n",
      "[47.164433709, 59.7941982077, 80.1697662773, 84.2388688128]\n",
      "[47.164433709, 59.7941982077, 59.7941982077, 88.6015042934]\n",
      "\n",
      "\n",
      "Edge (3, 9)\n",
      "Angles differ:\n",
      "[88.08366042]\n",
      "[89.5210481359]\n",
      "\n",
      "\n",
      "Edge (3, 4)\n",
      "Angles differ:\n",
      "[88.7883380112, 89.197881055]\n",
      "[71.9046849747, 74.1965981362]\n",
      "\n",
      "\n",
      "Edge (4, 7)\n",
      "Angles equal\n",
      "\n",
      "\n",
      "Edge (4, 5)\n",
      "Angles equal\n",
      "\n",
      "\n",
      "Edge (4, 6)\n",
      "Angles differ:\n",
      "[86.2834611844, 88.6226495629]\n",
      "[76.6579161543, 89.3460577129]\n",
      "\n",
      "\n",
      "Edge (4, 8)\n",
      "Angles differ:\n",
      "[87.7913948849]\n",
      "[87.7690220602]\n",
      "\n",
      "\n"
     ]
    }
   ],
   "source": [
    "for edge in G_anvy.edges:\n",
    "    assert G_anvy.edges[edge][\"geometry\"] == G_clse.edges[edge][\"geometry\"], \"Geoms differ\"\n",
    "    print(f\"Edge {edge}\")\n",
    "    angles_anvy = [round(angle, 10) for angle in sorted(G_anvy.edges[edge][\"angles\"])]\n",
    "    angles_clse = [round(angle, 10) for angle in sorted(G_clse.edges[edge][\"angles\"])]\n",
    "    if angles_anvy == angles_clse:\n",
    "        print(\"Angles equal\")\n",
    "    else:\n",
    "        print(\"Angles differ:\")\n",
    "        print(angles_anvy)\n",
    "        print(angles_clse)\n",
    "    print(\"\\n\")\n",
    "    #assert sortedG_anvy.edges[edge][\"angles\"] == G_clse.edges[edge][\"angles\"], \"Angles differ\""
   ]
  },
  {
   "cell_type": "markdown",
   "id": "2b8ec8cc",
   "metadata": {},
   "source": [
    "@csebastiao re the above. WHY :D "
   ]
  },
  {
   "cell_type": "markdown",
   "id": "4d35c3bc",
   "metadata": {},
   "source": [
    "Checking nodes"
   ]
  },
  {
   "cell_type": "code",
   "execution_count": 7,
   "id": "029e919b",
   "metadata": {},
   "outputs": [],
   "source": [
    "assert list(G_anvy.nodes) == list(G_clse.nodes), \"Nodes differ\""
   ]
  },
  {
   "cell_type": "code",
   "execution_count": 8,
   "id": "e7a7bf17",
   "metadata": {},
   "outputs": [
    {
     "data": {
      "text/plain": [
       "{'edge_indeces': [0, 3, 15, 27],\n",
       " 'geometry': <POINT (1603374.663 6464077.898)>,\n",
       " 'geometry_stroke': <LINESTRING (1603278.899 6463669.186, 1603283.731 6463690.028, 1603314.444 6...>,\n",
       " 'x': 1603374.6625343116,\n",
       " 'y': 6464077.898491419,\n",
       " 'connectivity': 8,\n",
       " 'degree': 5,\n",
       " 'betweenness_centrality': 0.13657407407407404,\n",
       " 'closeness_centrality': 0.6923076923076923,\n",
       " 'connectivity_computed': 8,\n",
       " 'access': 3,\n",
       " 'length': 839.5666838320316,\n",
       " 'spacing': 104.94583547900395,\n",
       " 'orthogonality': 68.74678997354196}"
      ]
     },
     "execution_count": 8,
     "metadata": {},
     "output_type": "execute_result"
    }
   ],
   "source": [
    "G_anvy.nodes[0]"
   ]
  },
  {
   "cell_type": "markdown",
   "id": "008c3f19",
   "metadata": {},
   "source": [
    "@csebastiao: `connectivity_computed` can be ignored (we can later drop it entirely, was just a sanity check)"
   ]
  },
  {
   "cell_type": "code",
   "execution_count": 9,
   "id": "829d8185",
   "metadata": {},
   "outputs": [
    {
     "data": {
      "text/plain": [
       "{'n_segments': 8,\n",
       " 'geometry_stroke': <LINESTRING (1603278.899 6463669.186, 1603283.731 6463690.028, 1603314.444 6...>,\n",
       " 'edge_ids': array([ 0,  3, 15, 27]),\n",
       " 'geometry': <POINT (1603374.663 6464077.898)>,\n",
       " 'x': array('d', [1603374.6625343116]),\n",
       " 'y': array('d', [6464077.898491419]),\n",
       " 'length': 839.5666838320316,\n",
       " 'stroke_betweenness': 0.13657407407407404,\n",
       " 'stroke_closeness': 0.6923076923076923,\n",
       " 'stroke_degree': 5,\n",
       " 'stroke_connectivity': 8,\n",
       " 'stroke_access': 3,\n",
       " 'stroke_orthogonality': 61.889319613560986,\n",
       " 'stroke_spacing': 104.94583547900395}"
      ]
     },
     "execution_count": 9,
     "metadata": {},
     "output_type": "execute_result"
    }
   ],
   "source": [
    "G_clse.nodes[0]"
   ]
  },
  {
   "cell_type": "code",
   "execution_count": 10,
   "id": "66b889d6",
   "metadata": {},
   "outputs": [],
   "source": [
    "# k:v is anvy:clse naming of node attrs\n",
    "metrics_map = {\n",
    "    \"degree\": \"stroke_degree\",\n",
    "    \"betweenness_centrality\": \"stroke_betweenness\",\n",
    "    \"closeness_centrality\": \"stroke_closeness\",\n",
    "    \"connectivity\": \"stroke_connectivity\",\n",
    "    \"access\": \"stroke_access\",\n",
    "    \"spacing\": \"stroke_spacing\",\n",
    "    #\"orthogonality\": \"stroke_orthogonality\"\n",
    "}"
   ]
  },
  {
   "cell_type": "code",
   "execution_count": 11,
   "id": "7f661ee2",
   "metadata": {},
   "outputs": [],
   "source": [
    "for n in G_anvy.nodes:\n",
    "    assert G_anvy.nodes[n][\"x\"] == G_clse.nodes[n][\"x\"][0], \"x coords differ\"\n",
    "    assert G_anvy.nodes[n][\"y\"] == G_clse.nodes[n][\"y\"][0], \"y coords differ\"\n",
    "    assert G_anvy.nodes[n][\"geometry\"] == G_clse.nodes[n][\"geometry\"], \"geometries differ\"\n",
    "    assert G_anvy.nodes[n][\"geometry_stroke\"] == G_clse.nodes[n][\"geometry_stroke\"], \"geometry_stroke differ\"\n",
    "    assert G_anvy.nodes[n][\"edge_indeces\"] == list(G_clse.nodes[n][\"edge_ids\"]), \"Edge IDs differ\"\n",
    "    assert G_anvy.nodes[n][\"length\"] == G_clse.nodes[n][\"length\"]\n",
    "    for k, v in metrics_map.items():\n",
    "        assert round(G_anvy.nodes[n][k], 10) == round(G_clse.nodes[n][v], 10), f\"{k} differ\"\n",
    "    "
   ]
  },
  {
   "cell_type": "markdown",
   "id": "d834bb01",
   "metadata": {},
   "source": [
    "@csebastiao we get the same metrics everywhere but orthogonality (which i guess makes sense cause the angles are off?)"
   ]
  },
  {
   "cell_type": "code",
   "execution_count": 12,
   "id": "d922e80c",
   "metadata": {},
   "outputs": [
    {
     "name": "stdout",
     "output_type": "stream",
     "text": [
      "0: orthos differ\n",
      "68.7467899735\n",
      "61.8893196136\n",
      "1: orthos differ\n",
      "86.3237109565\n",
      "83.6925485182\n",
      "2: orthos differ\n",
      "60.6750720203\n",
      "58.8531289111\n",
      "3: orthos differ\n",
      "72.6905727159\n",
      "67.4115491701\n",
      "4: orthos differ\n",
      "87.2833822408\n",
      "76.9079599519\n",
      "5: same ortho\n",
      "6: orthos differ\n",
      "76.5085090591\n",
      "72.9492134207\n",
      "7: same ortho\n",
      "8: orthos differ\n",
      "78.9162659216\n",
      "74.6909105965\n",
      "9: orthos differ\n",
      "59.3502878479\n",
      "59.8294170866\n"
     ]
    }
   ],
   "source": [
    "for n in G_anvy.nodes:\n",
    "    ortho_anvy = round(G_anvy.nodes[n][\"orthogonality\"], 10)\n",
    "    ortho_clse = round(G_clse.nodes[n][\"stroke_orthogonality\"], 10)\n",
    "    if ortho_anvy == ortho_clse:\n",
    "        print(f\"{n}: same ortho\")\n",
    "    else:\n",
    "        print(f\"{n}: orthos differ\")\n",
    "        print(ortho_anvy)\n",
    "        print(ortho_clse)    "
   ]
  },
  {
   "cell_type": "code",
   "execution_count": null,
   "id": "fe17ccd0",
   "metadata": {},
   "outputs": [],
   "source": []
  }
 ],
 "metadata": {
  "kernelspec": {
   "display_name": "simplification",
   "language": "python",
   "name": "python3"
  },
  "language_info": {
   "codemirror_mode": {
    "name": "ipython",
    "version": 3
   },
   "file_extension": ".py",
   "mimetype": "text/x-python",
   "name": "python",
   "nbconvert_exporter": "python",
   "pygments_lexer": "ipython3",
   "version": "3.11.9"
  }
 },
 "nbformat": 4,
 "nbformat_minor": 5
}
