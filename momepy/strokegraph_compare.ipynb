{
 "cells": [
  {
   "cell_type": "markdown",
   "id": "66901d81",
   "metadata": {},
   "source": [
    "# Checking whether we're getting the same results"
   ]
  },
  {
   "cell_type": "code",
   "execution_count": 160,
   "id": "b411a245",
   "metadata": {},
   "outputs": [],
   "source": [
    "import math\n",
    "import pickle\n",
    "\n",
    "import geopandas as gpd\n",
    "import numpy as np\n",
    "\n",
    "import momepy\n"
   ]
  },
  {
   "cell_type": "code",
   "execution_count": 161,
   "id": "b57b27f8",
   "metadata": {},
   "outputs": [],
   "source": [
    "with open('stroke_graph_anvy.pickle', 'rb') as handle:\n",
    "    G_anvy = pickle.load(handle)\n",
    "with open('stroke_graph_clse.pickle', 'rb') as handle:\n",
    "    G_clse = pickle.load(handle)"
   ]
  },
  {
   "cell_type": "markdown",
   "id": "a17bf072",
   "metadata": {},
   "source": [
    "Manually checking: edge attributes?"
   ]
  },
  {
   "cell_type": "code",
   "execution_count": 162,
   "id": "cf78ba7a",
   "metadata": {},
   "outputs": [
    {
     "data": {
      "text/plain": [
       "{'geometry': <LINESTRING (1603374.663 6464077.898, 1603342.343 6464406.368)>,\n",
       " 'angles': [np.float64(36.134980718680936)]}"
      ]
     },
     "execution_count": 162,
     "metadata": {},
     "output_type": "execute_result"
    }
   ],
   "source": [
    "G_anvy.edges[(0,9)]"
   ]
  },
  {
   "cell_type": "code",
   "execution_count": 163,
   "id": "915e4cab",
   "metadata": {},
   "outputs": [
    {
     "data": {
      "text/plain": [
       "{'geometry': <LINESTRING (1603374.663 6464077.898, 1603342.343 6464406.368)>,\n",
       " 'number_connections': 1,\n",
       " 'angles': [np.float64(36.134980718680936)]}"
      ]
     },
     "execution_count": 163,
     "metadata": {},
     "output_type": "execute_result"
    }
   ],
   "source": [
    "G_clse.edges[(0,9)]"
   ]
  },
  {
   "cell_type": "markdown",
   "id": "c712de5e",
   "metadata": {},
   "source": [
    "@csebastiao is the `number_connections` used for any of the metrics, or just a nice-to-have metric in itself?"
   ]
  },
  {
   "cell_type": "code",
   "execution_count": 164,
   "id": "af4d762b",
   "metadata": {},
   "outputs": [],
   "source": [
    "# make sure we have the same edges\n",
    "assert list(G_anvy.edges) == list(G_clse.edges), \"Edges differ\""
   ]
  },
  {
   "cell_type": "code",
   "execution_count": 165,
   "id": "afbcc5f1",
   "metadata": {},
   "outputs": [
    {
     "name": "stdout",
     "output_type": "stream",
     "text": [
      "Edge (0, 2)\n",
      "Angles equal\n",
      "\n",
      "\n",
      "Edge (0, 9)\n",
      "Angles equal\n",
      "\n",
      "\n",
      "Edge (0, 3)\n",
      "Angles equal\n",
      "\n",
      "\n",
      "Edge (0, 1)\n",
      "Angles equal\n",
      "\n",
      "\n",
      "Edge (0, 4)\n",
      "Angles equal\n",
      "\n",
      "\n",
      "Edge (1, 8)\n",
      "Angles equal\n",
      "\n",
      "\n",
      "Edge (1, 3)\n",
      "Angles equal\n",
      "\n",
      "\n",
      "Edge (1, 6)\n",
      "Angles equal\n",
      "\n",
      "\n",
      "Edge (2, 9)\n",
      "Angles equal\n",
      "\n",
      "\n",
      "Edge (2, 3)\n",
      "Angles equal\n",
      "\n",
      "\n",
      "Edge (2, 6)\n",
      "Angles equal\n",
      "\n",
      "\n",
      "Edge (3, 9)\n",
      "Angles equal\n",
      "\n",
      "\n",
      "Edge (3, 4)\n",
      "Angles equal\n",
      "\n",
      "\n",
      "Edge (4, 7)\n",
      "Angles equal\n",
      "\n",
      "\n",
      "Edge (4, 5)\n",
      "Angles equal\n",
      "\n",
      "\n",
      "Edge (4, 6)\n",
      "Angles equal\n",
      "\n",
      "\n",
      "Edge (4, 8)\n",
      "Angles equal\n",
      "\n",
      "\n"
     ]
    }
   ],
   "source": [
    "for edge in G_anvy.edges:\n",
    "    assert G_anvy.edges[edge][\"geometry\"] == G_clse.edges[edge][\"geometry\"], \"Geoms differ\"\n",
    "    print(f\"Edge {edge}\")\n",
    "    angles_anvy = [round(angle, 10) for angle in sorted(G_anvy.edges[edge][\"angles\"])]\n",
    "    angles_clse = [round(angle, 10) for angle in sorted(G_clse.edges[edge][\"angles\"])]\n",
    "    if angles_anvy == angles_clse:\n",
    "        print(\"Angles equal\")\n",
    "    else:\n",
    "        print(\"Angles differ:\")\n",
    "        print(angles_anvy)\n",
    "        print(angles_clse)\n",
    "    print(\"\\n\")\n",
    "    #assert sortedG_anvy.edges[edge][\"angles\"] == G_clse.edges[edge][\"angles\"], \"Angles differ\""
   ]
  },
  {
   "cell_type": "markdown",
   "id": "2b8ec8cc",
   "metadata": {},
   "source": [
    "@csebastiao re the above. WHY :D "
   ]
  },
  {
   "cell_type": "markdown",
   "id": "4d35c3bc",
   "metadata": {},
   "source": [
    "Checking nodes"
   ]
  },
  {
   "cell_type": "code",
   "execution_count": 166,
   "id": "029e919b",
   "metadata": {},
   "outputs": [],
   "source": [
    "assert list(G_anvy.nodes) == list(G_clse.nodes), \"Nodes differ\""
   ]
  },
  {
   "cell_type": "code",
   "execution_count": 167,
   "id": "e7a7bf17",
   "metadata": {},
   "outputs": [
    {
     "data": {
      "text/plain": [
       "{'edge_indeces': [0, 3, 15, 27],\n",
       " 'geometry': <POINT (1603374.663 6464077.898)>,\n",
       " 'geometry_stroke': <LINESTRING (1603278.899 6463669.186, 1603283.731 6463690.028, 1603314.444 6...>,\n",
       " 'x': 1603374.6625343116,\n",
       " 'y': 6464077.898491419,\n",
       " 'connectivity': 8,\n",
       " 'degree': 5,\n",
       " 'betweenness_centrality': 0.13657407407407404,\n",
       " 'closeness_centrality': 0.6923076923076923,\n",
       " 'connectivity_computed': 8,\n",
       " 'access': 3,\n",
       " 'length': 839.5666838320316,\n",
       " 'spacing': 104.94583547900395,\n",
       " 'orthogonality': np.float64(68.74678997354196)}"
      ]
     },
     "execution_count": 167,
     "metadata": {},
     "output_type": "execute_result"
    }
   ],
   "source": [
    "G_anvy.nodes[0]"
   ]
  },
  {
   "cell_type": "markdown",
   "id": "008c3f19",
   "metadata": {},
   "source": [
    "@csebastiao: `connectivity_computed` can be ignored (we can later drop it entirely, was just a sanity check)"
   ]
  },
  {
   "cell_type": "code",
   "execution_count": 168,
   "id": "829d8185",
   "metadata": {},
   "outputs": [
    {
     "data": {
      "text/plain": [
       "{'n_segments': np.int64(8),\n",
       " 'geometry_stroke': <LINESTRING (1603278.899 6463669.186, 1603283.731 6463690.028, 1603314.444 6...>,\n",
       " 'edge_ids': array([ 0,  3, 15, 27]),\n",
       " 'geometry': <POINT (1603374.663 6464077.898)>,\n",
       " 'x': array('d', [1603374.6625343116]),\n",
       " 'y': array('d', [6464077.898491419]),\n",
       " 'length': 839.5666838320316,\n",
       " 'stroke_betweenness': 0.13657407407407404,\n",
       " 'stroke_closeness': 0.6923076923076923,\n",
       " 'stroke_degree': 5,\n",
       " 'stroke_connectivity': 8,\n",
       " 'stroke_access': 3,\n",
       " 'stroke_orthogonality': np.float64(68.74678997354196),\n",
       " 'stroke_spacing': 104.94583547900395}"
      ]
     },
     "execution_count": 168,
     "metadata": {},
     "output_type": "execute_result"
    }
   ],
   "source": [
    "G_clse.nodes[0]"
   ]
  },
  {
   "cell_type": "code",
   "execution_count": 169,
   "id": "66b889d6",
   "metadata": {},
   "outputs": [],
   "source": [
    "# k:v is anvy:clse naming of node attrs\n",
    "metrics_map = {\n",
    "    \"degree\": \"stroke_degree\",\n",
    "    \"betweenness_centrality\": \"stroke_betweenness\",\n",
    "    \"closeness_centrality\": \"stroke_closeness\",\n",
    "    \"connectivity\": \"stroke_connectivity\",\n",
    "    \"access\": \"stroke_access\",\n",
    "    \"spacing\": \"stroke_spacing\",\n",
    "    #\"orthogonality\": \"stroke_orthogonality\"\n",
    "}"
   ]
  },
  {
   "cell_type": "code",
   "execution_count": 170,
   "id": "7f661ee2",
   "metadata": {},
   "outputs": [],
   "source": [
    "for n in G_anvy.nodes:\n",
    "    assert G_anvy.nodes[n][\"x\"] == G_clse.nodes[n][\"x\"][0], \"x coords differ\"\n",
    "    assert G_anvy.nodes[n][\"y\"] == G_clse.nodes[n][\"y\"][0], \"y coords differ\"\n",
    "    assert G_anvy.nodes[n][\"geometry\"] == G_clse.nodes[n][\"geometry\"], \"geometries differ\"\n",
    "    assert G_anvy.nodes[n][\"geometry_stroke\"] == G_clse.nodes[n][\"geometry_stroke\"], \"geometry_stroke differ\"\n",
    "    assert G_anvy.nodes[n][\"edge_indeces\"] == list(G_clse.nodes[n][\"edge_ids\"]), \"Edge IDs differ\"\n",
    "    assert G_anvy.nodes[n][\"length\"] == G_clse.nodes[n][\"length\"]\n",
    "    for k, v in metrics_map.items():\n",
    "        assert round(G_anvy.nodes[n][k], 10) == round(G_clse.nodes[n][v], 10), f\"{k} differ\""
   ]
  },
  {
   "cell_type": "markdown",
   "id": "d834bb01",
   "metadata": {},
   "source": [
    "@csebastiao we get the same metrics everywhere but orthogonality (which i guess makes sense cause the angles are off?)"
   ]
  },
  {
   "cell_type": "code",
   "execution_count": 171,
   "id": "d922e80c",
   "metadata": {},
   "outputs": [
    {
     "name": "stdout",
     "output_type": "stream",
     "text": [
      "0: same ortho\n",
      "1: same ortho\n",
      "2: same ortho\n",
      "3: same ortho\n",
      "4: same ortho\n",
      "5: same ortho\n",
      "6: same ortho\n",
      "7: same ortho\n",
      "8: same ortho\n",
      "9: same ortho\n"
     ]
    }
   ],
   "source": [
    "for n in G_anvy.nodes:\n",
    "    ortho_anvy = round(G_anvy.nodes[n][\"orthogonality\"], 10)\n",
    "    ortho_clse = round(G_clse.nodes[n][\"stroke_orthogonality\"], 10)\n",
    "    if ortho_anvy == ortho_clse:\n",
    "        print(f\"{n}: same ortho\")\n",
    "    else:\n",
    "        print(f\"{n}: orthos differ\")\n",
    "        print(ortho_anvy)\n",
    "        print(ortho_clse)"
   ]
  },
  {
   "cell_type": "markdown",
   "id": "d8dd1c1f",
   "metadata": {},
   "source": [
    "## Testing the angles function"
   ]
  },
  {
   "cell_type": "code",
   "execution_count": 172,
   "id": "fe17ccd0",
   "metadata": {},
   "outputs": [],
   "source": [
    "import math\n",
    "\n",
    "import numpy as np\n",
    "\n",
    "\n",
    "# Anastassia angle def\n",
    "def get_interior_angle(a, b, c):\n",
    "    \"\"\"\n",
    "    Measure the angle between a-b, b-c (in degrees).\n",
    "    \"\"\"\n",
    "    ba = [a[0]-b[0],a[1]-b[1]]\n",
    "    bc = [c[0]-b[0],c[1]-b[1]]\n",
    "    # np.dot(ba, bc) # ba[0]*bc[0] + ba[1]*bc[1]\n",
    "    # np.linalg.norm(ba) # np.sqrt(ba[0]**2+ba[1]**2)\n",
    "    # np.linalg.norm(bc) # np.sqrt(bc[0]**2+bc[1]**2)\n",
    "    theta_rad = math.acos(np.dot(ba,bc)/(np.linalg.norm(ba)*np.linalg.norm(bc)))\n",
    "    theta_deg = np.degrees(theta_rad)\n",
    "    if theta_deg > 90:\n",
    "        theta_deg = 180 - theta_deg\n",
    "    return theta_deg\n",
    "\n",
    "# Clément angle def\n",
    "def angle(a, b):\n",
    "    angle = np.rad2deg(np.arccos(np.dot(a, b)/(np.linalg.norm(a) * np.linalg.norm(b))))\n",
    "    if angle > 90:\n",
    "        angle = 180 - angle\n",
    "    return angle"
   ]
  },
  {
   "cell_type": "code",
   "execution_count": 173,
   "id": "a11251c9",
   "metadata": {},
   "outputs": [
    {
     "data": {
      "text/plain": [
       "array([0., 0., 0., 0., 0., 0., 0., 0., 0., 0., 0., 0., 0., 0., 0., 0., 0.,\n",
       "       0., 0., 0., 0., 0., 0., 0., 0., 0., 0., 0., 0., 0., 0., 0., 0., 0.,\n",
       "       0., 0., 0., 0., 0., 0., 0., 0., 0., 0., 0., 0., 0., 0., 0., 0., 0.,\n",
       "       0., 0., 0., 0., 0., 0., 0., 0., 0., 0., 0., 0., 0., 0., 0., 0., 0.,\n",
       "       0., 0., 0., 0., 0., 0., 0., 0., 0., 0., 0., 0., 0., 0., 0., 0., 0.,\n",
       "       0., 0., 0., 0., 0., 0., 0., 0., 0., 0., 0., 0., 0., 0., 0., 0., 0.,\n",
       "       0., 0., 0., 0., 0., 0., 0., 0., 0., 0., 0., 0., 0., 0., 0., 0., 0.,\n",
       "       0., 0., 0., 0., 0., 0., 0., 0., 0., 0., 0., 0., 0., 0., 0., 0., 0.,\n",
       "       0., 0., 0., 0., 0., 0., 0., 0., 0., 0., 0., 0., 0., 0., 0., 0., 0.,\n",
       "       0., 0., 0., 0., 0., 0., 0., 0., 0., 0., 0., 0., 0., 0., 0., 0., 0.,\n",
       "       0., 0., 0., 0., 0., 0., 0., 0., 0., 0., 0., 0., 0., 0., 0., 0., 0.,\n",
       "       0., 0., 0., 0., 0., 0., 0., 0., 0., 0., 0., 0., 0., 0., 0., 0., 0.,\n",
       "       0., 0., 0., 0., 0., 0., 0., 0., 0., 0., 0., 0., 0., 0., 0., 0., 0.,\n",
       "       0., 0., 0., 0., 0., 0., 0., 0., 0., 0., 0., 0., 0., 0., 0., 0., 0.,\n",
       "       0., 0., 0., 0., 0., 0., 0., 0., 0., 0., 0., 0., 0., 0., 0., 0., 0.,\n",
       "       0., 0., 0., 0., 0., 0., 0., 0., 0., 0., 0., 0., 0., 0., 0., 0., 0.,\n",
       "       0., 0., 0., 0., 0., 0., 0., 0., 0., 0., 0., 0., 0., 0., 0., 0., 0.,\n",
       "       0., 0., 0., 0., 0., 0., 0., 0., 0., 0., 0., 0., 0., 0., 0., 0., 0.,\n",
       "       0., 0., 0., 0., 0., 0., 0., 0., 0., 0., 0., 0., 0., 0., 0., 0., 0.,\n",
       "       0., 0., 0., 0., 0., 0., 0., 0., 0., 0., 0., 0., 0., 0., 0., 0., 0.,\n",
       "       0., 0., 0., 0., 0., 0., 0., 0., 0., 0., 0., 0., 0., 0., 0., 0., 0.,\n",
       "       0., 0.])"
      ]
     },
     "execution_count": 173,
     "metadata": {},
     "output_type": "execute_result"
    }
   ],
   "source": [
    "vectors = [[np.cos(np.radians(deg)), np.sin(np.radians(deg))] for deg in range(360)]\n",
    "angles_clse = np.array([round(angle(vectors[0], vectors[i]), 8) for i in range(1, 360)])\n",
    "angles_anvy = np.array([round(get_interior_angle(vectors[0], [0,0], vectors[i]), 5) for i in range(1, 360)])\n",
    "angles_clse - angles_anvy"
   ]
  },
  {
   "cell_type": "markdown",
   "id": "b034b463",
   "metadata": {},
   "source": [
    "Both angle function work well and similarly if receiving the same inputs (with different formalism but still), so issue before !"
   ]
  },
  {
   "cell_type": "code",
   "execution_count": 174,
   "id": "b7eabac6",
   "metadata": {},
   "outputs": [
    {
     "data": {
      "text/plain": [
       "array([0., 0., 0., 0., 0., 0., 0., 0., 0., 0., 0., 0., 0., 0., 0., 0., 0.,\n",
       "       0., 0., 0., 0., 0., 0., 0., 0., 0., 0., 0., 0., 0., 0., 0., 0., 0.,\n",
       "       0., 0., 0., 0., 0., 0., 0., 0., 0., 0., 0., 0., 0., 0., 0., 0., 0.,\n",
       "       0., 0., 0., 0., 0., 0., 0., 0., 0., 0., 0., 0., 0., 0., 0., 0., 0.,\n",
       "       0., 0., 0., 0., 0., 0., 0., 0., 0., 0., 0., 0., 0., 0., 0., 0., 0.,\n",
       "       0., 0., 0., 0., 0., 0., 0., 0., 0., 0., 0., 0., 0., 0., 0., 0., 0.,\n",
       "       0., 0., 0., 0., 0., 0., 0., 0., 0., 0., 0., 0., 0., 0., 0., 0., 0.,\n",
       "       0., 0., 0., 0., 0., 0., 0., 0., 0., 0., 0., 0., 0., 0., 0., 0., 0.,\n",
       "       0., 0., 0., 0., 0., 0., 0., 0., 0., 0., 0., 0., 0., 0., 0., 0., 0.,\n",
       "       0., 0., 0., 0., 0., 0., 0., 0., 0., 0., 0., 0., 0., 0., 0., 0., 0.,\n",
       "       0., 0., 0., 0., 0., 0., 0., 0., 0., 0., 0., 0., 0., 0., 0., 0., 0.,\n",
       "       0., 0., 0., 0., 0., 0., 0., 0., 0., 0., 0., 0., 0., 0., 0., 0., 0.,\n",
       "       0., 0., 0., 0., 0., 0., 0., 0., 0., 0., 0., 0., 0., 0., 0., 0., 0.,\n",
       "       0., 0., 0., 0., 0., 0., 0., 0., 0., 0., 0., 0., 0., 0., 0., 0., 0.,\n",
       "       0., 0., 0., 0., 0., 0., 0., 0., 0., 0., 0., 0., 0., 0., 0., 0., 0.,\n",
       "       0., 0., 0., 0., 0., 0., 0., 0., 0., 0., 0., 0., 0., 0., 0., 0., 0.,\n",
       "       0., 0., 0., 0., 0., 0., 0., 0., 0., 0., 0., 0., 0., 0., 0., 0., 0.,\n",
       "       0., 0., 0., 0., 0., 0., 0., 0., 0., 0., 0., 0., 0., 0., 0., 0., 0.,\n",
       "       0., 0., 0., 0., 0., 0., 0., 0., 0., 0., 0., 0., 0., 0., 0., 0., 0.,\n",
       "       0., 0., 0., 0., 0., 0., 0., 0., 0., 0., 0., 0., 0., 0., 0., 0., 0.,\n",
       "       0., 0., 0., 0., 0., 0., 0., 0., 0., 0., 0., 0., 0., 0., 0., 0., 0.,\n",
       "       0., 0.])"
      ]
     },
     "execution_count": 174,
     "metadata": {},
     "output_type": "execute_result"
    }
   ],
   "source": [
    "vectors = np.array([[np.cos(np.radians(deg)), np.sin(np.radians(deg))] for deg in range(360)]) + 183049\n",
    "angles_clse = np.array([round(angle(vectors[0], vectors[i]), 5) for i in range(1, 360)])\n",
    "angles_anvy = np.array([round(get_interior_angle(vectors[0], [0,0], vectors[i]), 5) for i in range(1, 360)])\n",
    "angles_clse - angles_anvy"
   ]
  },
  {
   "cell_type": "code",
   "execution_count": 175,
   "id": "95b0e4cc",
   "metadata": {},
   "outputs": [],
   "source": [
    "for edge in G_anvy.edges:\n",
    "    assert G_anvy.edges[edge][\"geometry\"] == G_clse.edges[edge][\"geometry\"], \"Geoms differ\"\n",
    "    angles_anvy = [round(angle, 10) for angle in sorted(G_anvy.edges[edge][\"angles\"])]\n",
    "    angles_clse = [round(angle, 10) for angle in sorted(G_clse.edges[edge][\"angles\"])]\n",
    "    if angles_anvy != angles_clse:\n",
    "        print(\"Angles differ:\")\n",
    "        print(angles_anvy)\n",
    "        print(angles_clse)\n",
    "        print(G_anvy.nodes[edge[0]])\n",
    "        print(G_anvy.nodes[edge[1]])\n",
    "        print(G_clse.nodes[edge[0]])\n",
    "        print(G_clse.nodes[edge[1]])\n",
    "        print(\"\\n\")"
   ]
  },
  {
   "cell_type": "code",
   "execution_count": 176,
   "id": "f84c0968",
   "metadata": {},
   "outputs": [],
   "source": [
    "streets = gpd.read_file(momepy.datasets.get_path(\"bubenec\"), layer=\"streets\")\n",
    "# Clean data\n",
    "streets = momepy.remove_false_nodes(streets)\n",
    "streets[\"edge_id\"] = streets.index\n",
    "# Transform into primal graph\n",
    "G_primal = momepy.gdf_to_nx(streets, approach=\"primal\", preserve_index=True)\n",
    "points_primal, lines_primal = momepy.nx_to_gdf(G_primal, points=True, lines=True)"
   ]
  },
  {
   "cell_type": "code",
   "execution_count": 177,
   "id": "59443a81",
   "metadata": {},
   "outputs": [
    {
     "name": "stdout",
     "output_type": "stream",
     "text": [
      "e1s2 ((1603413.2063240695, 6464228.730248732), (1603585.6402153103, 6464428.773867372), 0)\n",
      "e2s2 ((1603413.2063240695, 6464228.730248732), (1603363.557831175, 6464031.88480676), 0)\n",
      "e1s1 ((1603413.2063240695, 6464228.730248732), (1603226.9576840235, 6464160.158361825), 0)\n",
      "[(1603413.2063240695, 6464228.730248732), (1603274.457710744, 6464178.659351781), (1603226.9576840235, 6464160.158361825)] [(1603585.6402153103, 6464428.773867372), (1603413.2063240695, 6464228.730248732)] [(1603363.557831175, 6464031.88480676), (1603376.5042879563, 6464085.530021086), (1603413.2063240695, 6464228.730248732)]\n"
     ]
    }
   ],
   "source": [
    "for e in G_primal.edges((1603413.2063240695, 6464228.730248732), keys=True):\n",
    "    if G_primal.edges[e][\"edge_id\"] == 4:\n",
    "        print(\"e1s1\", e)\n",
    "        e1s1 =  G_primal.edges[e][\"geometry\"]\n",
    "    elif G_primal.edges[e][\"edge_id\"] == 0:\n",
    "        print(\"e1s2\", e)\n",
    "        e1s2 =  G_primal.edges[e][\"geometry\"]\n",
    "    elif G_primal.edges[e][\"edge_id\"] == 3:\n",
    "        print(\"e2s2\", e)\n",
    "        e2s2 =  G_primal.edges[e][\"geometry\"]\n",
    "print(e1s1.coords[:], e1s2.coords[:], e2s2.coords[:])"
   ]
  },
  {
   "cell_type": "code",
   "execution_count": 178,
   "id": "7b9e8d0e",
   "metadata": {},
   "outputs": [],
   "source": [
    "e1s1_geom = e1s1.coords[:2]\n",
    "e1s2_geom = e1s2.coords[:2]\n",
    "e2s2_geom = e2s2.coords[-2:]"
   ]
  },
  {
   "cell_type": "code",
   "execution_count": 179,
   "id": "0da0e679",
   "metadata": {},
   "outputs": [
    {
     "data": {
      "text/plain": [
       "np.float64(29.396028363390087)"
      ]
     },
     "execution_count": 179,
     "metadata": {},
     "output_type": "execute_result"
    }
   ],
   "source": [
    "get_interior_angle(e1s1_geom[1], e1s1_geom[0], e1s2_geom[0])"
   ]
  },
  {
   "cell_type": "code",
   "execution_count": 180,
   "id": "c1ab91cd",
   "metadata": {},
   "outputs": [
    {
     "data": {
      "text/plain": [
       "np.float64(29.396028363390094)"
      ]
     },
     "execution_count": 180,
     "metadata": {},
     "output_type": "execute_result"
    }
   ],
   "source": [
    "angle(np.array(e1s1_geom[1]) - np.array(e1s1_geom[0]), np.array(e1s2_geom[1]) - np.array(e1s2_geom[0]))"
   ]
  },
  {
   "cell_type": "code",
   "execution_count": 181,
   "id": "9ccbe4d5",
   "metadata": {},
   "outputs": [
    {
     "data": {
      "text/plain": [
       "np.float64(29.396028363390087)"
      ]
     },
     "execution_count": 181,
     "metadata": {},
     "output_type": "execute_result"
    }
   ],
   "source": [
    "angle(np.array(e1s1_geom[0]) - np.array(e1s1_geom[1]), np.array(e1s2_geom[1]) - np.array(e1s2_geom[0]))"
   ]
  },
  {
   "cell_type": "code",
   "execution_count": 182,
   "id": "5843905b",
   "metadata": {},
   "outputs": [
    {
     "data": {
      "text/plain": [
       "np.float64(29.396028363390094)"
      ]
     },
     "execution_count": 182,
     "metadata": {},
     "output_type": "execute_result"
    }
   ],
   "source": [
    "angle(np.array(e1s1_geom[0]) - np.array(e1s1_geom[1]), np.array(e1s2_geom[0]) - np.array(e1s2_geom[1]))"
   ]
  },
  {
   "cell_type": "code",
   "execution_count": 183,
   "id": "6d0ae741",
   "metadata": {},
   "outputs": [],
   "source": [
    "def find_geom(linestring, point):\n",
    "    if point == linestring.coords[0]:\n",
    "        geom = [np.array(val) for val in linestring.coords[:2]]\n",
    "    else:\n",
    "        geom = [np.array(val) for val in linestring.coords[-2:]]\n",
    "    return np.array(geom[0] - geom[1])"
   ]
  },
  {
   "cell_type": "code",
   "execution_count": 184,
   "id": "d489cd28",
   "metadata": {},
   "outputs": [
    {
     "data": {
      "text/plain": [
       "array([138.74861333,  50.07089695])"
      ]
     },
     "execution_count": 184,
     "metadata": {},
     "output_type": "execute_result"
    }
   ],
   "source": [
    "find_geom(e1s1, (1603413.2063240695, 6464228.730248732))"
   ]
  },
  {
   "cell_type": "code",
   "execution_count": 185,
   "id": "0e7e6b53",
   "metadata": {},
   "outputs": [
    {
     "data": {
      "text/plain": [
       "array([138.74861333,  50.07089695])"
      ]
     },
     "execution_count": 185,
     "metadata": {},
     "output_type": "execute_result"
    }
   ],
   "source": [
    "np.array(e1s1_geom[0]) - np.array(e1s1_geom[1])"
   ]
  },
  {
   "cell_type": "code",
   "execution_count": 186,
   "id": "8dfaabd1",
   "metadata": {},
   "outputs": [
    {
     "data": {
      "text/plain": [
       "array([172.43389124, 200.04361864])"
      ]
     },
     "execution_count": 186,
     "metadata": {},
     "output_type": "execute_result"
    }
   ],
   "source": [
    "np.array(e1s2_geom[0]) - np.array(e1s2_geom[1])"
   ]
  },
  {
   "cell_type": "code",
   "execution_count": 187,
   "id": "d9880de6",
   "metadata": {},
   "outputs": [
    {
     "data": {
      "text/plain": [
       "array([172.43389124, 200.04361864])"
      ]
     },
     "execution_count": 187,
     "metadata": {},
     "output_type": "execute_result"
    }
   ],
   "source": [
    "find_geom(e1s2, (1603413.2063240695, 6464228.730248732))"
   ]
  },
  {
   "cell_type": "code",
   "execution_count": null,
   "id": "6c829f65",
   "metadata": {},
   "outputs": [],
   "source": []
  }
 ],
 "metadata": {
  "kernelspec": {
   "display_name": "momepy_dev",
   "language": "python",
   "name": "python3"
  },
  "language_info": {
   "codemirror_mode": {
    "name": "ipython",
    "version": 3
   },
   "file_extension": ".py",
   "mimetype": "text/x-python",
   "name": "python",
   "nbconvert_exporter": "python",
   "pygments_lexer": "ipython3",
   "version": "3.12.10"
  }
 },
 "nbformat": 4,
 "nbformat_minor": 5
}
