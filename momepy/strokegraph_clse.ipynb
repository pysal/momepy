{
 "cells": [
  {
   "cell_type": "markdown",
   "metadata": {},
   "source": [
    "# Playground for strokes graph"
   ]
  },
  {
   "cell_type": "code",
   "execution_count": 1,
   "metadata": {},
   "outputs": [],
   "source": [
    "import geopandas as gpd\n",
    "import matplotlib.pyplot as plt\n",
    "import momepy\n",
    "import networkx as nx\n",
    "import folium\n",
    "from itertools import combinations\n",
    "from collections import Counter\n",
    "import shapely"
   ]
  },
  {
   "cell_type": "code",
   "execution_count": 2,
   "metadata": {},
   "outputs": [],
   "source": [
    "streets = gpd.read_file(momepy.datasets.get_path(\"bubenec\"), layer=\"streets\")"
   ]
  },
  {
   "cell_type": "code",
   "execution_count": 3,
   "metadata": {},
   "outputs": [],
   "source": [
    "# Clean data\n",
    "streets = momepy.remove_false_nodes(streets)\n",
    "# Add fixed ID to each edge\n",
    "streets[\"id\"] = streets.index\n",
    "# Transform into primal graph\n",
    "G_primal = momepy.gdf_to_nx(streets, approach=\"primal\")\n",
    "points_primal, lines_primal = momepy.nx_to_gdf(G_primal, points=True, lines=True)\n",
    "# Use COINS on primal graph edges\n",
    "coins = momepy.COINS(lines_primal)\n",
    "# List the stroke for each edge\n",
    "stroke_attribute = coins.stroke_attribute()\n",
    "# List each edge for each stroke\n",
    "stroke_gdf = coins.stroke_gdf()\n",
    "stroke_gdf[\"stroke_id\"] = stroke_gdf.index\n",
    "stroke_gdf[\"edge_ids\"] = stroke_gdf.stroke_id.apply(lambda x: list(lines_primal.iloc[stroke_attribute[stroke_attribute == x].index][\"id\"]))\n",
    "# Dictionary mapping to each edge ID the edge index\n",
    "d_lines_primal_id2idx = {val:list(lines_primal[lines_primal[\"id\"] == val].index)[0] for val in lines_primal[\"id\"]}\n",
    "# Add stroke ID to each edge\n",
    "nx.set_edge_attributes(G_primal, {e: int(stroke_attribute[d_lines_primal_id2idx[G_primal.edges[e][\"id\"]]]) for e in G_primal.edges}, \"stroke_id\")\n",
    "points_primal, lines_primal = momepy.nx_to_gdf(G_primal, points=True, lines=True)\n"
   ]
  },
  {
   "cell_type": "code",
   "execution_count": 4,
   "metadata": {},
   "outputs": [],
   "source": [
    "# m = stroke_gdf.explore(tiles=\"cartodb-positron\", column=\"stroke_id\", cmap=\"tab10\", name=\"strokes\")\n",
    "# lines_primal.explore(m=m, column=\"id\", name = \"lines\", cmap=\"viridis\")\n",
    "# folium.LayerControl().add_to(m)\n",
    "# m"
   ]
  },
  {
   "cell_type": "code",
   "execution_count": 5,
   "metadata": {},
   "outputs": [],
   "source": [
    "# m = stroke_gdf.explore(tiles=\"cartodb-positron\", column=\"stroke_id\", cmap=\"Set2\", name=\"strokes\")\n",
    "# lines.explore(m=m, column=\"stroke_id\", name = \"lines\", cmap=\"Set2\")\n",
    "# folium.LayerControl().add_to(m)\n",
    "# m"
   ]
  },
  {
   "cell_type": "code",
   "execution_count": 34,
   "metadata": {},
   "outputs": [],
   "source": [
    "G_dual = momepy.gdf_to_nx(lines_primal, approach=\"dual\", angles=True)\n",
    "d_nodes_dual_id2idx = {G_dual.nodes[n][\"id\"]:n for n in G_dual.nodes}\n",
    "d_lines_primal_idx2id = {v:k for k,v in d_lines_primal_id2idx.items()}\n",
    "lines_primal[\"angles\"] = [[(G_dual.nodes[v][\"id\"], d[\"angle\"]) for _, v, d in G_dual.edges(d_nodes_dual_id2idx[d_lines_primal_idx2id[idx]], data=True)] for idx in list(lines_primal.index)]"
   ]
  },
  {
   "cell_type": "code",
   "execution_count": 62,
   "metadata": {},
   "outputs": [],
   "source": [
    "angles_strokes_all = []\n",
    "for idx in list(stroke_gdf.index):\n",
    "    array = list(lines_primal[lines_primal[\"id\"].isin(stroke_gdf.iloc[idx][\"edge_ids\"])][\"angles\"])\n",
    "    flat_array = []\n",
    "    for arr in array:\n",
    "        for val in arr:\n",
    "            flat_array.append(val)\n",
    "    angles_strokes_singular = {}\n",
    "    for val in flat_array:\n",
    "        stroke_id = int(lines_primal.iloc[d_lines_primal_id2idx[val[0]]][\"stroke_id\"])\n",
    "        if stroke_id == idx:\n",
    "            pass\n",
    "        elif stroke_id not in angles_strokes_singular:\n",
    "            angles_strokes_singular[stroke_id] = [val[1]]\n",
    "        else:\n",
    "            angles_strokes_singular[stroke_id].append(val[1])\n",
    "    angles_strokes_all.append(angles_strokes_singular)\n",
    "stroke_gdf[\"angles_with_strokes\"] = angles_strokes_all"
   ]
  },
  {
   "cell_type": "code",
   "execution_count": null,
   "metadata": {},
   "outputs": [],
   "source": [
    "G_stroke = nx.Graph()\n",
    "G_stroke.graph[\"crs\"] = G_primal.graph[\"crs\"]\n",
    "# Create a node for each stroke with the right features\n",
    "G_stroke.add_nodes_from([[val, {attr:(list(stroke_gdf[stroke_gdf[\"stroke_id\"] == val][attr])[0] if attr != \"geometry\" else stroke_gdf[stroke_gdf[\"stroke_id\"] == val].geometry[val]) for attr in list(stroke_gdf)}] for val in list(stroke_gdf[\"stroke_id\"])])\n",
    "# For all node, put its geometry at the center of the LineString\n",
    "for n in G_stroke.nodes:\n",
    "    G_stroke.nodes[n][\"geometry\"] = stroke_gdf.iloc[n].geometry.interpolate(0.5, normalized=True)\n",
    "    G_stroke.nodes[n][\"x\"] = G_stroke.nodes[n][\"geometry\"].xy[0]\n",
    "    G_stroke.nodes[n][\"y\"] = G_stroke.nodes[n][\"geometry\"].xy[1]\n",
    "for n in G_stroke.nodes:\n",
    "    for k in stroke_gdf.iloc[n][\"angles_with_strokes\"]:\n",
    "        G_stroke.add_edge(n, k, geometry = shapely.LineString(counting = sum(stroke_gdf.iloc[n][\"angles_with_strokes\"][k]), angles = stroke_gdf.iloc[n][\"angles_with_strokes\"][k])"
   ]
  },
  {
   "cell_type": "code",
   "execution_count": 68,
   "metadata": {},
   "outputs": [
    {
     "name": "stderr",
     "output_type": "stream",
     "text": [
      "/var/folders/mb/_ysy1pzs13qgnh9b942_7lkh0000gn/T/ipykernel_8655/1971550804.py:1: UserWarning: Approach is not set. Defaulting to 'primal'.\n",
      "  points_stroke, lines_stroke = momepy.nx_to_gdf(G_stroke, points=True, lines=True)\n"
     ]
    },
    {
     "ename": "ValueError",
     "evalue": "Assigning CRS to a GeoDataFrame without a geometry column is not supported. Use GeoDataFrame.set_geometry to set the active geometry column.",
     "output_type": "error",
     "traceback": [
      "\u001b[31m---------------------------------------------------------------------------\u001b[39m",
      "\u001b[31mAttributeError\u001b[39m                            Traceback (most recent call last)",
      "\u001b[36mFile \u001b[39m\u001b[32m~/miniforge3/envs/momepy_dev/lib/python3.12/site-packages/geopandas/geodataframe.py:517\u001b[39m, in \u001b[36mGeoDataFrame.crs\u001b[39m\u001b[34m(self)\u001b[39m\n\u001b[32m    516\u001b[39m \u001b[38;5;28;01mtry\u001b[39;00m:\n\u001b[32m--> \u001b[39m\u001b[32m517\u001b[39m     \u001b[38;5;28;01mreturn\u001b[39;00m \u001b[38;5;28;43mself\u001b[39;49m\u001b[43m.\u001b[49m\u001b[43mgeometry\u001b[49m.crs\n\u001b[32m    518\u001b[39m \u001b[38;5;28;01mexcept\u001b[39;00m \u001b[38;5;167;01mAttributeError\u001b[39;00m:\n",
      "\u001b[36mFile \u001b[39m\u001b[32m~/miniforge3/envs/momepy_dev/lib/python3.12/site-packages/pandas/core/generic.py:6299\u001b[39m, in \u001b[36mNDFrame.__getattr__\u001b[39m\u001b[34m(self, name)\u001b[39m\n\u001b[32m   6298\u001b[39m     \u001b[38;5;28;01mreturn\u001b[39;00m \u001b[38;5;28mself\u001b[39m[name]\n\u001b[32m-> \u001b[39m\u001b[32m6299\u001b[39m \u001b[38;5;28;01mreturn\u001b[39;00m \u001b[38;5;28;43mobject\u001b[39;49m\u001b[43m.\u001b[49m\u001b[34;43m__getattribute__\u001b[39;49m\u001b[43m(\u001b[49m\u001b[38;5;28;43mself\u001b[39;49m\u001b[43m,\u001b[49m\u001b[43m \u001b[49m\u001b[43mname\u001b[49m\u001b[43m)\u001b[49m\n",
      "\u001b[36mFile \u001b[39m\u001b[32m~/miniforge3/envs/momepy_dev/lib/python3.12/site-packages/geopandas/geodataframe.py:253\u001b[39m, in \u001b[36mGeoDataFrame._get_geometry\u001b[39m\u001b[34m(self)\u001b[39m\n\u001b[32m    247\u001b[39m         msg += (\n\u001b[32m    248\u001b[39m             \u001b[33m\"\u001b[39m\u001b[38;5;130;01m\\n\u001b[39;00m\u001b[33mThere are no existing columns with geometry data type. You can \u001b[39m\u001b[33m\"\u001b[39m\n\u001b[32m    249\u001b[39m             \u001b[33m\"\u001b[39m\u001b[33madd a geometry column as the active geometry column with \u001b[39m\u001b[33m\"\u001b[39m\n\u001b[32m    250\u001b[39m             \u001b[33m\"\u001b[39m\u001b[33mdf.set_geometry. \u001b[39m\u001b[33m\"\u001b[39m\n\u001b[32m    251\u001b[39m         )\n\u001b[32m--> \u001b[39m\u001b[32m253\u001b[39m     \u001b[38;5;28;01mraise\u001b[39;00m \u001b[38;5;167;01mAttributeError\u001b[39;00m(msg)\n\u001b[32m    254\u001b[39m \u001b[38;5;28;01mreturn\u001b[39;00m \u001b[38;5;28mself\u001b[39m[\u001b[38;5;28mself\u001b[39m._geometry_column_name]\n",
      "\u001b[31mAttributeError\u001b[39m: You are calling a geospatial method on the GeoDataFrame, but the active geometry column to use has not been set. \nThere are no existing columns with geometry data type. You can add a geometry column as the active geometry column with df.set_geometry. ",
      "\nDuring handling of the above exception, another exception occurred:\n",
      "\u001b[31mAttributeError\u001b[39m                            Traceback (most recent call last)",
      "\u001b[36mFile \u001b[39m\u001b[32m~/miniforge3/envs/momepy_dev/lib/python3.12/site-packages/pandas/core/generic.py:6325\u001b[39m, in \u001b[36mNDFrame.__setattr__\u001b[39m\u001b[34m(self, name, value)\u001b[39m\n\u001b[32m   6324\u001b[39m \u001b[38;5;28;01mtry\u001b[39;00m:\n\u001b[32m-> \u001b[39m\u001b[32m6325\u001b[39m     existing = \u001b[38;5;28;43mgetattr\u001b[39;49m\u001b[43m(\u001b[49m\u001b[38;5;28;43mself\u001b[39;49m\u001b[43m,\u001b[49m\u001b[43m \u001b[49m\u001b[43mname\u001b[49m\u001b[43m)\u001b[49m\n\u001b[32m   6326\u001b[39m     \u001b[38;5;28;01mif\u001b[39;00m \u001b[38;5;28misinstance\u001b[39m(existing, Index):\n",
      "\u001b[36mFile \u001b[39m\u001b[32m~/miniforge3/envs/momepy_dev/lib/python3.12/site-packages/pandas/core/generic.py:6299\u001b[39m, in \u001b[36mNDFrame.__getattr__\u001b[39m\u001b[34m(self, name)\u001b[39m\n\u001b[32m   6298\u001b[39m     \u001b[38;5;28;01mreturn\u001b[39;00m \u001b[38;5;28mself\u001b[39m[name]\n\u001b[32m-> \u001b[39m\u001b[32m6299\u001b[39m \u001b[38;5;28;01mreturn\u001b[39;00m \u001b[38;5;28;43mobject\u001b[39;49m\u001b[43m.\u001b[49m\u001b[34;43m__getattribute__\u001b[39;49m\u001b[43m(\u001b[49m\u001b[38;5;28;43mself\u001b[39;49m\u001b[43m,\u001b[49m\u001b[43m \u001b[49m\u001b[43mname\u001b[49m\u001b[43m)\u001b[49m\n",
      "\u001b[36mFile \u001b[39m\u001b[32m~/miniforge3/envs/momepy_dev/lib/python3.12/site-packages/geopandas/geodataframe.py:519\u001b[39m, in \u001b[36mGeoDataFrame.crs\u001b[39m\u001b[34m(self)\u001b[39m\n\u001b[32m    518\u001b[39m \u001b[38;5;28;01mexcept\u001b[39;00m \u001b[38;5;167;01mAttributeError\u001b[39;00m:\n\u001b[32m--> \u001b[39m\u001b[32m519\u001b[39m     \u001b[38;5;28;01mraise\u001b[39;00m \u001b[38;5;167;01mAttributeError\u001b[39;00m(\n\u001b[32m    520\u001b[39m         \u001b[33m\"\u001b[39m\u001b[33mThe CRS attribute of a GeoDataFrame without an active \u001b[39m\u001b[33m\"\u001b[39m\n\u001b[32m    521\u001b[39m         \u001b[33m\"\u001b[39m\u001b[33mgeometry column is not defined. Use GeoDataFrame.set_geometry \u001b[39m\u001b[33m\"\u001b[39m\n\u001b[32m    522\u001b[39m         \u001b[33m\"\u001b[39m\u001b[33mto set the active geometry column.\u001b[39m\u001b[33m\"\u001b[39m\n\u001b[32m    523\u001b[39m     )\n",
      "\u001b[31mAttributeError\u001b[39m: The CRS attribute of a GeoDataFrame without an active geometry column is not defined. Use GeoDataFrame.set_geometry to set the active geometry column.",
      "\nDuring handling of the above exception, another exception occurred:\n",
      "\u001b[31mValueError\u001b[39m                                Traceback (most recent call last)",
      "\u001b[36mCell\u001b[39m\u001b[36m \u001b[39m\u001b[32mIn[68]\u001b[39m\u001b[32m, line 1\u001b[39m\n\u001b[32m----> \u001b[39m\u001b[32m1\u001b[39m points_stroke, lines_stroke = \u001b[43mmomepy\u001b[49m\u001b[43m.\u001b[49m\u001b[43mnx_to_gdf\u001b[49m\u001b[43m(\u001b[49m\u001b[43mG_stroke\u001b[49m\u001b[43m,\u001b[49m\u001b[43m \u001b[49m\u001b[43mpoints\u001b[49m\u001b[43m=\u001b[49m\u001b[38;5;28;43;01mTrue\u001b[39;49;00m\u001b[43m,\u001b[49m\u001b[43m \u001b[49m\u001b[43mlines\u001b[49m\u001b[43m=\u001b[49m\u001b[38;5;28;43;01mTrue\u001b[39;49;00m\u001b[43m)\u001b[49m\n\u001b[32m      2\u001b[39m m = stroke_gdf.explore(tiles=\u001b[33m\"\u001b[39m\u001b[33mcartodb-positron\u001b[39m\u001b[33m\"\u001b[39m, column=\u001b[33m\"\u001b[39m\u001b[33mstroke_id\u001b[39m\u001b[33m\"\u001b[39m, cmap=\u001b[33m\"\u001b[39m\u001b[33mtab10\u001b[39m\u001b[33m\"\u001b[39m, name=\u001b[33m\"\u001b[39m\u001b[33mstrokes\u001b[39m\u001b[33m\"\u001b[39m)\n\u001b[32m      3\u001b[39m points_primal.explore(m=m, name=\u001b[33m\"\u001b[39m\u001b[33mpoints_primal\u001b[39m\u001b[33m\"\u001b[39m)\n",
      "\u001b[36mFile \u001b[39m\u001b[32m~/Desktop/PhD/Code/momepy/momepy/utils.py:569\u001b[39m, in \u001b[36mnx_to_gdf\u001b[39m\u001b[34m(net, points, lines, spatial_weights, nodeID)\u001b[39m\n\u001b[32m    566\u001b[39m \u001b[38;5;28;01mfor\u001b[39;00m nid, n \u001b[38;5;129;01min\u001b[39;00m \u001b[38;5;28menumerate\u001b[39m(net):\n\u001b[32m    567\u001b[39m     net.nodes[n][nodeID] = nid\n\u001b[32m--> \u001b[39m\u001b[32m569\u001b[39m \u001b[38;5;28;01mreturn\u001b[39;00m \u001b[43m_primal_to_gdf\u001b[49m\u001b[43m(\u001b[49m\n\u001b[32m    570\u001b[39m \u001b[43m    \u001b[49m\u001b[43mnet\u001b[49m\u001b[43m,\u001b[49m\n\u001b[32m    571\u001b[39m \u001b[43m    \u001b[49m\u001b[43mpoints\u001b[49m\u001b[43m=\u001b[49m\u001b[43mpoints\u001b[49m\u001b[43m,\u001b[49m\n\u001b[32m    572\u001b[39m \u001b[43m    \u001b[49m\u001b[43mlines\u001b[49m\u001b[43m=\u001b[49m\u001b[43mlines\u001b[49m\u001b[43m,\u001b[49m\n\u001b[32m    573\u001b[39m \u001b[43m    \u001b[49m\u001b[43mspatial_weights\u001b[49m\u001b[43m=\u001b[49m\u001b[43mspatial_weights\u001b[49m\u001b[43m,\u001b[49m\n\u001b[32m    574\u001b[39m \u001b[43m    \u001b[49m\u001b[43mnode_id\u001b[49m\u001b[43m=\u001b[49m\u001b[43mnodeID\u001b[49m\u001b[43m,\u001b[49m\n\u001b[32m    575\u001b[39m \u001b[43m\u001b[49m\u001b[43m)\u001b[49m\n",
      "\u001b[36mFile \u001b[39m\u001b[32m~/Desktop/PhD/Code/momepy/momepy/utils.py:441\u001b[39m, in \u001b[36m_primal_to_gdf\u001b[39m\u001b[34m(net, points, lines, spatial_weights, node_id)\u001b[39m\n\u001b[32m    438\u001b[39m         weights.transform = \u001b[33m\"\u001b[39m\u001b[33mb\u001b[39m\u001b[33m\"\u001b[39m\n\u001b[32m    440\u001b[39m \u001b[38;5;28;01mif\u001b[39;00m lines \u001b[38;5;129;01mis\u001b[39;00m \u001b[38;5;28;01mTrue\u001b[39;00m:\n\u001b[32m--> \u001b[39m\u001b[32m441\u001b[39m     gdf_edges = \u001b[43m_lines_to_gdf\u001b[49m\u001b[43m(\u001b[49m\u001b[43mnet\u001b[49m\u001b[43m,\u001b[49m\u001b[43m \u001b[49m\u001b[43mpoints\u001b[49m\u001b[43m,\u001b[49m\u001b[43m \u001b[49m\u001b[43mnode_id\u001b[49m\u001b[43m)\u001b[49m\n\u001b[32m    443\u001b[39m \u001b[38;5;28;01mif\u001b[39;00m points \u001b[38;5;129;01mis\u001b[39;00m \u001b[38;5;28;01mTrue\u001b[39;00m \u001b[38;5;129;01mand\u001b[39;00m lines \u001b[38;5;129;01mis\u001b[39;00m \u001b[38;5;28;01mTrue\u001b[39;00m:\n\u001b[32m    444\u001b[39m     \u001b[38;5;28;01mif\u001b[39;00m spatial_weights \u001b[38;5;129;01mis\u001b[39;00m \u001b[38;5;28;01mTrue\u001b[39;00m:\n",
      "\u001b[36mFile \u001b[39m\u001b[32m~/Desktop/PhD/Code/momepy/momepy/utils.py:417\u001b[39m, in \u001b[36m_lines_to_gdf\u001b[39m\u001b[34m(net, points, node_id)\u001b[39m\n\u001b[32m    414\u001b[39m     gdf_edges[\u001b[33m\"\u001b[39m\u001b[33mnode_end\u001b[39m\u001b[33m\"\u001b[39m] = [net.nodes[e][node_id] \u001b[38;5;28;01mfor\u001b[39;00m e \u001b[38;5;129;01min\u001b[39;00m ends]\n\u001b[32m    416\u001b[39m \u001b[38;5;28;01mif\u001b[39;00m \u001b[33m\"\u001b[39m\u001b[33mcrs\u001b[39m\u001b[33m\"\u001b[39m \u001b[38;5;129;01min\u001b[39;00m net.graph:\n\u001b[32m--> \u001b[39m\u001b[32m417\u001b[39m     \u001b[43mgdf_edges\u001b[49m\u001b[43m.\u001b[49m\u001b[43mcrs\u001b[49m = net.graph[\u001b[33m\"\u001b[39m\u001b[33mcrs\u001b[39m\u001b[33m\"\u001b[39m]\n\u001b[32m    418\u001b[39m \u001b[38;5;28;01mif\u001b[39;00m \u001b[33m\"\u001b[39m\u001b[33mindex_position\u001b[39m\u001b[33m\"\u001b[39m \u001b[38;5;129;01min\u001b[39;00m gdf_edges.columns:\n\u001b[32m    419\u001b[39m     gdf_edges = gdf_edges.sort_values(\u001b[33m\"\u001b[39m\u001b[33mindex_position\u001b[39m\u001b[33m\"\u001b[39m).drop(\n\u001b[32m    420\u001b[39m         columns=\u001b[33m\"\u001b[39m\u001b[33mindex_position\u001b[39m\u001b[33m\"\u001b[39m\n\u001b[32m    421\u001b[39m     )\n",
      "\u001b[36mFile \u001b[39m\u001b[32m~/miniforge3/envs/momepy_dev/lib/python3.12/site-packages/geopandas/geodataframe.py:223\u001b[39m, in \u001b[36mGeoDataFrame.__setattr__\u001b[39m\u001b[34m(self, attr, val)\u001b[39m\n\u001b[32m    221\u001b[39m     \u001b[38;5;28mobject\u001b[39m.\u001b[34m__setattr__\u001b[39m(\u001b[38;5;28mself\u001b[39m, attr, val)\n\u001b[32m    222\u001b[39m \u001b[38;5;28;01melse\u001b[39;00m:\n\u001b[32m--> \u001b[39m\u001b[32m223\u001b[39m     \u001b[38;5;28;43msuper\u001b[39;49m\u001b[43m(\u001b[49m\u001b[43m)\u001b[49m\u001b[43m.\u001b[49m\u001b[34;43m__setattr__\u001b[39;49m\u001b[43m(\u001b[49m\u001b[43mattr\u001b[49m\u001b[43m,\u001b[49m\u001b[43m \u001b[49m\u001b[43mval\u001b[49m\u001b[43m)\u001b[49m\n",
      "\u001b[36mFile \u001b[39m\u001b[32m~/miniforge3/envs/momepy_dev/lib/python3.12/site-packages/pandas/core/generic.py:6341\u001b[39m, in \u001b[36mNDFrame.__setattr__\u001b[39m\u001b[34m(self, name, value)\u001b[39m\n\u001b[32m   6333\u001b[39m \u001b[38;5;28;01mif\u001b[39;00m \u001b[38;5;28misinstance\u001b[39m(\u001b[38;5;28mself\u001b[39m, ABCDataFrame) \u001b[38;5;129;01mand\u001b[39;00m (is_list_like(value)):\n\u001b[32m   6334\u001b[39m     warnings.warn(\n\u001b[32m   6335\u001b[39m         \u001b[33m\"\u001b[39m\u001b[33mPandas doesn\u001b[39m\u001b[33m'\u001b[39m\u001b[33mt allow columns to be \u001b[39m\u001b[33m\"\u001b[39m\n\u001b[32m   6336\u001b[39m         \u001b[33m\"\u001b[39m\u001b[33mcreated via a new attribute name - see \u001b[39m\u001b[33m\"\u001b[39m\n\u001b[32m   (...)\u001b[39m\u001b[32m   6339\u001b[39m         stacklevel=find_stack_level(),\n\u001b[32m   6340\u001b[39m     )\n\u001b[32m-> \u001b[39m\u001b[32m6341\u001b[39m \u001b[38;5;28;43mobject\u001b[39;49m\u001b[43m.\u001b[49m\u001b[34;43m__setattr__\u001b[39;49m\u001b[43m(\u001b[49m\u001b[38;5;28;43mself\u001b[39;49m\u001b[43m,\u001b[49m\u001b[43m \u001b[49m\u001b[43mname\u001b[49m\u001b[43m,\u001b[49m\u001b[43m \u001b[49m\u001b[43mvalue\u001b[49m\u001b[43m)\u001b[49m\n",
      "\u001b[36mFile \u001b[39m\u001b[32m~/miniforge3/envs/momepy_dev/lib/python3.12/site-packages/geopandas/geodataframe.py:529\u001b[39m, in \u001b[36mGeoDataFrame.crs\u001b[39m\u001b[34m(self, value)\u001b[39m\n\u001b[32m    527\u001b[39m \u001b[38;5;250m\u001b[39m\u001b[33;03m\"\"\"Sets the value of the crs\"\"\"\u001b[39;00m\n\u001b[32m    528\u001b[39m \u001b[38;5;28;01mif\u001b[39;00m \u001b[38;5;28mself\u001b[39m._geometry_column_name \u001b[38;5;129;01mis\u001b[39;00m \u001b[38;5;28;01mNone\u001b[39;00m:\n\u001b[32m--> \u001b[39m\u001b[32m529\u001b[39m     \u001b[38;5;28;01mraise\u001b[39;00m \u001b[38;5;167;01mValueError\u001b[39;00m(\n\u001b[32m    530\u001b[39m         \u001b[33m\"\u001b[39m\u001b[33mAssigning CRS to a GeoDataFrame without a geometry column is not \u001b[39m\u001b[33m\"\u001b[39m\n\u001b[32m    531\u001b[39m         \u001b[33m\"\u001b[39m\u001b[33msupported. Use GeoDataFrame.set_geometry to set the active \u001b[39m\u001b[33m\"\u001b[39m\n\u001b[32m    532\u001b[39m         \u001b[33m\"\u001b[39m\u001b[33mgeometry column.\u001b[39m\u001b[33m\"\u001b[39m,\n\u001b[32m    533\u001b[39m     )\n\u001b[32m    535\u001b[39m \u001b[38;5;28;01mif\u001b[39;00m \u001b[38;5;28mhasattr\u001b[39m(\u001b[38;5;28mself\u001b[39m.geometry.values, \u001b[33m\"\u001b[39m\u001b[33mcrs\u001b[39m\u001b[33m\"\u001b[39m):\n\u001b[32m    536\u001b[39m     \u001b[38;5;28;01mif\u001b[39;00m \u001b[38;5;28mself\u001b[39m.crs \u001b[38;5;129;01mis\u001b[39;00m \u001b[38;5;129;01mnot\u001b[39;00m \u001b[38;5;28;01mNone\u001b[39;00m:\n",
      "\u001b[31mValueError\u001b[39m: Assigning CRS to a GeoDataFrame without a geometry column is not supported. Use GeoDataFrame.set_geometry to set the active geometry column."
     ]
    }
   ],
   "source": [
    "points_stroke, lines_stroke = momepy.nx_to_gdf(G_stroke, points=True, lines=True)\n",
    "m = stroke_gdf.explore(tiles=\"cartodb-positron\", column=\"stroke_id\", cmap=\"tab10\", name=\"strokes\")\n",
    "points_primal.explore(m=m, name=\"points_primal\")\n",
    "lines_primal.explore(m=m, name=\"lines_primal\")\n",
    "points_stroke.explore(m=m, color=\"black\", marker_kwds={\"radius\":10}, name=\"points_stroke\")\n",
    "lines_stroke.explore(m=m, color=\"blue\", name=\"lines_stroke\")\n",
    "folium.LayerControl().add_to(m)\n",
    "m"
   ]
  },
  {
   "cell_type": "code",
   "execution_count": null,
   "metadata": {},
   "outputs": [],
   "source": []
  }
 ],
 "metadata": {
  "kernelspec": {
   "display_name": "momepy_dev",
   "language": "python",
   "name": "python3"
  },
  "language_info": {
   "codemirror_mode": {
    "name": "ipython",
    "version": 3
   },
   "file_extension": ".py",
   "mimetype": "text/x-python",
   "name": "python",
   "nbconvert_exporter": "python",
   "pygments_lexer": "ipython3",
   "version": "3.12.10"
  }
 },
 "nbformat": 4,
 "nbformat_minor": 2
}
