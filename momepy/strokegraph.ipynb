{
 "cells": [
  {
   "cell_type": "markdown",
   "metadata": {},
   "source": [
    "# Playground for strokes graph"
   ]
  },
  {
   "cell_type": "code",
   "execution_count": null,
   "metadata": {},
   "outputs": [],
   "source": [
    "import geopandas as gpd\n",
    "import matplotlib.pyplot as plt\n",
    "import momepy\n",
    "import networkx as nx\n",
    "import folium"
   ]
  },
  {
   "cell_type": "code",
   "execution_count": null,
   "metadata": {},
   "outputs": [],
   "source": [
    "streets = gpd.read_file(momepy.datasets.get_path(\"bubenec\"), layer=\"streets\")\n",
    "streets = momepy.remove_false_nodes(streets)"
   ]
  },
  {
   "cell_type": "code",
   "execution_count": null,
   "metadata": {},
   "outputs": [],
   "source": [
    "streets.head()\n",
    "streets[\"id\"] = streets.index"
   ]
  },
  {
   "cell_type": "code",
   "execution_count": null,
   "metadata": {},
   "outputs": [],
   "source": [
    "ax = streets.plot(figsize=(8, 8), column=\"id\", cmap = \"Accent\")\n",
    "ax.set_axis_off()\n",
    "ax.legend()"
   ]
  },
  {
   "cell_type": "code",
   "execution_count": null,
   "metadata": {},
   "outputs": [],
   "source": [
    "graph = momepy.gdf_to_nx(streets, approach=\"primal\")"
   ]
  },
  {
   "cell_type": "code",
   "execution_count": null,
   "metadata": {},
   "outputs": [],
   "source": [
    "# f, ax = plt.subplots(1, 3, figsize=(18, 6), sharex=True, sharey=True)\n",
    "# streets.plot(color=\"#e32e00\", ax=ax[0])\n",
    "# for i, facet in enumerate(ax):\n",
    "#     facet.set_title((\"Streets\", \"Primal graph\", \"Overlay\")[i])\n",
    "#     facet.axis(\"off\")\n",
    "# nx.draw(\n",
    "#     graph, {n: [n[0], n[1]] for n in list(graph.nodes)}, ax=ax[1], node_size=15\n",
    "# )\n",
    "# streets.plot(color=\"#e32e00\", ax=ax[2], zorder=-1)\n",
    "# nx.draw(\n",
    "#     graph, {n: [n[0], n[1]] for n in list(graph.nodes)}, ax=ax[2], node_size=15\n",
    "# )"
   ]
  },
  {
   "cell_type": "code",
   "execution_count": null,
   "metadata": {},
   "outputs": [],
   "source": [
    "points, lines = momepy.nx_to_gdf(graph, points=True, lines=True)"
   ]
  },
  {
   "cell_type": "code",
   "execution_count": null,
   "metadata": {},
   "outputs": [],
   "source": [
    "# fig, ax = plt.subplots(1,1)\n",
    "# lines.plot(ax=ax)\n",
    "# points.plot(ax=ax)"
   ]
  },
  {
   "cell_type": "code",
   "execution_count": null,
   "metadata": {},
   "outputs": [],
   "source": [
    "coins = momepy.COINS(lines)"
   ]
  },
  {
   "cell_type": "code",
   "execution_count": null,
   "metadata": {},
   "outputs": [],
   "source": [
    "stroke_attribute = coins.stroke_attribute()\n",
    "stroke_gdf = coins.stroke_gdf()"
   ]
  },
  {
   "cell_type": "code",
   "execution_count": null,
   "metadata": {},
   "outputs": [],
   "source": [
    "stroke_gdf[\"stroke_id\"] = stroke_gdf.index\n",
    "stroke_gdf[\"edge_ids\"] = stroke_gdf.stroke_id.apply(lambda x: list(lines.iloc[stroke_attribute[stroke_attribute == x].index][\"id\"]))"
   ]
  },
  {
   "cell_type": "code",
   "execution_count": null,
   "metadata": {},
   "outputs": [],
   "source": [
    "stroke_gdf.head(10)"
   ]
  },
  {
   "cell_type": "code",
   "execution_count": null,
   "metadata": {},
   "outputs": [],
   "source": [
    "d = nx.get_edge_attributes(graph, \"id\")\n",
    "d = {v:k for k,v in d.items()}"
   ]
  },
  {
   "cell_type": "code",
   "execution_count": null,
   "metadata": {},
   "outputs": [],
   "source": [
    "graph.edges[d[0]]"
   ]
  },
  {
   "cell_type": "code",
   "execution_count": null,
   "metadata": {},
   "outputs": [],
   "source": [
    "# m = stroke_gdf.explore(tiles=\"cartodb.positron\", column = \"stroke_id\", name = \"strokes\", cmap = \"Set2\")\n",
    "# lines.explore(m=m, column = \"id\", name = \"lines\")\n",
    "# folium.LayerControl().add_to(m)\n",
    "# m"
   ]
  }
 ],
 "metadata": {
  "kernelspec": {
   "display_name": "simplification",
   "language": "python",
   "name": "python3"
  },
  "language_info": {
   "codemirror_mode": {
    "name": "ipython",
    "version": 3
   },
   "file_extension": ".py",
   "mimetype": "text/x-python",
   "name": "python",
   "nbconvert_exporter": "python",
   "pygments_lexer": "ipython3",
   "version": "3.11.9"
  }
 },
 "nbformat": 4,
 "nbformat_minor": 2
}
