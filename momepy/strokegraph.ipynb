{
 "cells": [
  {
   "cell_type": "markdown",
   "metadata": {},
   "source": [
    "# Playground for strokes graph"
   ]
  },
  {
   "cell_type": "code",
   "execution_count": null,
   "metadata": {},
   "outputs": [],
   "source": [
    "# import libraries\n",
    "import geopandas as gpd\n",
    "import matplotlib.pyplot as plt\n",
    "import momepy\n",
    "import networkx as nx\n",
    "import folium"
   ]
  },
  {
   "cell_type": "markdown",
   "metadata": {},
   "source": [
    "Import example data set"
   ]
  },
  {
   "cell_type": "code",
   "execution_count": null,
   "metadata": {},
   "outputs": [],
   "source": [
    "# read in toy graph (Bubenec)\n",
    "streets = gpd.read_file(momepy.datasets.get_path(\"bubenec\"), layer=\"streets\")\n",
    "streets = momepy.remove_false_nodes(streets)\n",
    "# streets[\"id\"] = streets.index\n",
    "\n",
    "# ax = streets.plot(figsize=(8, 8), column=\"id\", cmap = \"Accent\")\n",
    "# ax.set_axis_off()\n",
    "# ax.legend()"
   ]
  },
  {
   "cell_type": "markdown",
   "metadata": {},
   "source": [
    "Workflow (will be wrapped in function later)\n",
    "\n",
    "- [ ] input is a set of linestrings\n",
    "- [ ] remove false nodes \n",
    "- [ ] convert linestrings to primal graph\n",
    "- [ ] get points and lines gdf from primal graph\n",
    "- [ ] run COINS on lines gdf to find strokes\n",
    "- [ ] add mapping of strokeID:edgeIDs to stroke gdf (use momepy's **edge ID**, not indexing)\n",
    "- [ ] add stroke attribute to each edge on primal graph"
   ]
  },
  {
   "cell_type": "code",
   "execution_count": null,
   "metadata": {},
   "outputs": [],
   "source": [
    "# define variable defaults (will be arguments passed to future function)\n",
    "angle_threshold=0\n",
    "flow_mode=False"
   ]
  },
  {
   "cell_type": "code",
   "execution_count": null,
   "metadata": {},
   "outputs": [],
   "source": [
    "# remove false nodes\n",
    "streets = momepy.remove_false_nodes(streets)\n",
    "\n",
    "# add unique edge ID to streets, already HERE!\n",
    "streets[\"edge_id\"] = streets.index\n",
    "\n",
    "# make primal graph\n",
    "graph = momepy.gdf_to_nx(streets, approach=\"primal\")\n",
    "\n",
    "# get gdfs of points and lines\n",
    "points, lines = momepy.nx_to_gdf(graph, points=True, lines=True)\n",
    "\n",
    "# make coins\n",
    "coins = momepy.COINS(lines, angle_threshold=angle_threshold, flow_mode=flow_mode)\n",
    "\n",
    "# get gdfs from COINS class\n",
    "stroke_attribute = coins.stroke_attribute()\n",
    "stroke_gdf = coins.stroke_gdf()\n",
    "\n",
    "# add stroke_id column\n",
    "stroke_gdf[\"stroke_id\"] = stroke_gdf.index\n",
    "\n",
    "# add edge_ids column (using COINS.stroke_attribute to map into ID defined in lines gdf)\n",
    "stroke_gdf[\"edge_ids\"] = stroke_gdf.stroke_id.apply(\n",
    "    lambda x: list(\n",
    "        lines.iloc[\n",
    "            stroke_attribute[stroke_attribute == x].index][\"edge_id\"]\n",
    "    )\n",
    ")\n",
    "\n",
    "stroke_gdf.head()"
   ]
  },
  {
   "cell_type": "code",
   "execution_count": null,
   "metadata": {},
   "outputs": [],
   "source": [
    "# make dictionary for primal graph, edge_id:edge_name\n",
    "d = nx.get_edge_attributes(graph, \"edge_id\")\n",
    "d = {v:k for k,v in d.items()}\n",
    "d"
   ]
  },
  {
   "cell_type": "code",
   "execution_count": null,
   "metadata": {},
   "outputs": [],
   "source": [
    "# for each edge, add \"stroke_id\" as attribute to graph\n",
    "for _, row in stroke_gdf.iterrows():\n",
    "    for e in row.edge_ids: \n",
    "        graph.edges[d[e]][\"stroke_id\"] = row.stroke_id"
   ]
  },
  {
   "cell_type": "code",
   "execution_count": null,
   "metadata": {},
   "outputs": [],
   "source": [
    "d_strokes = nx.get_edge_attributes(graph, \"stroke_id\")\n",
    "d_edges = nx.get_edge_attributes(graph, \"edge_id\")"
   ]
  },
  {
   "cell_type": "code",
   "execution_count": null,
   "metadata": {},
   "outputs": [],
   "source": [
    "edges_strokes = {d_edges[k]:d_strokes[k] for k in d_edges} \n",
    "edges_strokes"
   ]
  },
  {
   "cell_type": "code",
   "execution_count": null,
   "metadata": {},
   "outputs": [],
   "source": [
    "# m = stroke_gdf.explore(tiles=\"cartodb.positron\", column = \"stroke_id\", name = \"strokes\", cmap = \"Set2\")\n",
    "# lines.explore(m=m, column = \"id\", name = \"lines\")\n",
    "# folium.LayerControl().add_to(m)\n",
    "# m"
   ]
  },
  {
   "cell_type": "markdown",
   "metadata": {},
   "source": [
    "***"
   ]
  },
  {
   "cell_type": "code",
   "execution_count": null,
   "metadata": {},
   "outputs": [],
   "source": []
  },
  {
   "cell_type": "code",
   "execution_count": null,
   "metadata": {},
   "outputs": [],
   "source": []
  },
  {
   "cell_type": "code",
   "execution_count": null,
   "metadata": {},
   "outputs": [],
   "source": []
  }
 ],
 "metadata": {
  "kernelspec": {
   "display_name": "simplification",
   "language": "python",
   "name": "python3"
  },
  "language_info": {
   "codemirror_mode": {
    "name": "ipython",
    "version": 3
   },
   "file_extension": ".py",
   "mimetype": "text/x-python",
   "name": "python",
   "nbconvert_exporter": "python",
   "pygments_lexer": "ipython3",
   "version": "3.11.9"
  }
 },
 "nbformat": 4,
 "nbformat_minor": 2
}
